{
 "cells": [
  {
   "cell_type": "markdown",
   "metadata": {},
   "source": [
    "## stock price display for arduino"
   ]
  },
  {
   "cell_type": "code",
   "execution_count": 16,
   "metadata": {},
   "outputs": [],
   "source": [
    "import yfinance as yf\n",
    "import time\n",
    "import pandas as pd"
   ]
  },
  {
   "cell_type": "code",
   "execution_count": 24,
   "metadata": {},
   "outputs": [
    {
     "data": {
      "text/plain": [
       "'0.0000477429'"
      ]
     },
     "execution_count": 24,
     "metadata": {},
     "output_type": "execute_result"
    }
   ],
   "source": [
    "shib = yf.Ticker('SHIB-USD')\n",
    "shib_price = pd.to_numeric(shib.info['regularMarketPrice'])\n",
    "shib_price = format(shib_price, '.10f')\n",
    "shib_price"
   ]
  },
  {
   "cell_type": "code",
   "execution_count": 29,
   "metadata": {},
   "outputs": [
    {
     "name": "stdout",
     "output_type": "stream",
     "text": [
      "0.0000479151\n",
      "0.0000479151\n",
      "0.0000479151\n",
      "0.0000479151\n",
      "0.0000479151\n",
      "0.0000479666\n",
      "0.0000479666\n",
      "0.0000479666\n",
      "0.0000479666\n",
      "0.0000479666\n",
      "0.0000479666\n",
      "0.0000479666\n",
      "0.0000479666\n",
      "0.0000479666\n",
      "0.0000479860\n",
      "0.0000479860\n",
      "0.0000479860\n",
      "0.0000479860\n",
      "0.0000479860\n",
      "0.0000479860\n",
      "0.0000479860\n",
      "0.0000479860\n",
      "0.0000479860\n",
      "0.0000480143\n",
      "0.0000480143\n",
      "0.0000480143\n",
      "0.0000480143\n",
      "0.0000480143\n",
      "0.0000480143\n",
      "0.0000480143\n",
      "0.0000480143\n",
      "0.0000479684\n",
      "0.0000479684\n",
      "0.0000479684\n",
      "0.0000479684\n",
      "0.0000479684\n",
      "0.0000479684\n",
      "0.0000479684\n",
      "0.0000479684\n",
      "0.0000479684\n",
      "0.0000479684\n",
      "0.0000479241\n",
      "0.0000479241\n",
      "0.0000479241\n",
      "0.0000479241\n",
      "0.0000479241\n",
      "0.0000479241\n",
      "0.0000479241\n",
      "0.0000479281\n",
      "0.0000479281\n",
      "0.0000479281\n",
      "0.0000479281\n",
      "0.0000479281\n",
      "0.0000479281\n",
      "0.0000479217\n",
      "0.0000479217\n",
      "0.0000479217\n",
      "0.0000479217\n",
      "0.0000479217\n",
      "0.0000479217\n",
      "0.0000479217\n",
      "0.0000479564\n",
      "0.0000479564\n",
      "0.0000479564\n",
      "0.0000479564\n",
      "0.0000479564\n",
      "0.0000479564\n",
      "0.0000479564\n",
      "0.0000479451\n",
      "0.0000479451\n",
      "0.0000479451\n",
      "0.0000479451\n",
      "0.0000479451\n",
      "0.0000479451\n",
      "0.0000479451\n",
      "0.0000478710\n",
      "0.0000478710\n",
      "0.0000478710\n",
      "0.0000478710\n",
      "0.0000478710\n",
      "0.0000478710\n",
      "0.0000478710\n",
      "0.0000478744\n",
      "0.0000478744\n",
      "0.0000478744\n",
      "0.0000478744\n",
      "0.0000478744\n",
      "0.0000478744\n"
     ]
    },
    {
     "ename": "KeyboardInterrupt",
     "evalue": "",
     "output_type": "error",
     "traceback": [
      "\u001b[1;31m---------------------------------------------------------------------------\u001b[0m",
      "\u001b[1;31mKeyboardInterrupt\u001b[0m                         Traceback (most recent call last)",
      "\u001b[1;32m<ipython-input-29-27442675babe>\u001b[0m in \u001b[0;36m<module>\u001b[1;34m\u001b[0m\n\u001b[0;32m      5\u001b[0m     \u001b[0mshib_price\u001b[0m\u001b[1;33m\u001b[0m\u001b[1;33m\u001b[0m\u001b[0m\n\u001b[0;32m      6\u001b[0m     \u001b[0mprint\u001b[0m\u001b[1;33m(\u001b[0m\u001b[0mshib_price\u001b[0m\u001b[1;33m)\u001b[0m\u001b[1;33m\u001b[0m\u001b[1;33m\u001b[0m\u001b[0m\n\u001b[1;32m----> 7\u001b[1;33m     \u001b[0mtime\u001b[0m\u001b[1;33m.\u001b[0m\u001b[0msleep\u001b[0m\u001b[1;33m(\u001b[0m\u001b[1;36m3\u001b[0m\u001b[1;33m)\u001b[0m\u001b[1;33m\u001b[0m\u001b[1;33m\u001b[0m\u001b[0m\n\u001b[0m",
      "\u001b[1;31mKeyboardInterrupt\u001b[0m: "
     ]
    }
   ],
   "source": [
    "while 1 < 2:\n",
    "    shib = yf.Ticker('SHIB-USD')\n",
    "    shib_price = pd.to_numeric(shib.info['regularMarketPrice'])\n",
    "    if shib_price != \n",
    "    shib_price = format(shib_price, '.10f')\n",
    "    shib_price\n",
    "    print(shib_price)\n",
    "    time.sleep(3)"
   ]
  },
  {
   "cell_type": "code",
   "execution_count": null,
   "metadata": {},
   "outputs": [],
   "source": [
    "from yfinance import Share\n",
    "import time\n",
    "import serial\n",
    "StockShares = ['DOW','YHOO','BAC','F','JPM','TWTR','CHK','PBR','FIT','COG','ABX','FCX','GE','TRGP','CNX','BSX','MRC','NKE','NEM','PBRA','HST','BP','MRK','HON','MET','CLR','WPX' \\\n",
    ",'EXC','JCP','YELP','GNC','TSLA','VRX','P','NFLX','CMG','SM','WYNN','SHAK','ICON']\n",
    "\n",
    "ser = serial.Serial('COM1',9600)\n",
    "def printShare(share,name):\n",
    "    ser.write(name + ': *' + share.get_open()+','+share.get_price())\n",
    "    print name + ': *' + share.get_open()+','+share.get_price()\n",
    "    time.sleep(.1)\n",
    "def mainProgram():\n",
    "    for i in StockShares:\n",
    "        name = i\n",
    "        s = Share(i)\n",
    "        printShare(s,name)\n",
    "        s.refresh()\n",
    "        time.sleep(9.5)\n",
    "    mainProgram()\n",
    "mainProgram()"
   ]
  },
  {
   "cell_type": "code",
   "execution_count": null,
   "metadata": {},
   "outputs": [],
   "source": [
    "import yfinance as yf\n",
    "import time\n",
    "import pyserial\n",
    "StockShares = ['DOW','YHOO','BAC','F','JPM','TWTR','CHK','PBR','FIT','COG','ABX','FCX','GE','TRGP','CNX','BSX','MRC','NKE','NEM','PBRA','HST','BP','MRK','HON','MET','CLR','WPX' \\\n",
    ",'EXC','JCP','YELP','GNC','TSLA','VRX','P','NFLX','CMG','SM','WYNN','SHAK','ICON']\n",
    "\n",
    "ser = pyserial.Serial('COM7',9600)\n",
    "def printShare(share,name):\n",
    "    ser.write(name + ': *' + share.get_open()+','+share.get_price())\n",
    "    print(f\"name + ': *' + share.get_open()+','+share.get_price()\")\n",
    "    time.sleep(.1)\n",
    "def mainProgram():\n",
    "    for i in StockShares:\n",
    "        name = i\n",
    "        s = yf.Ticker(i)\n",
    "        printShare(s,name)\n",
    "        s.refresh()\n",
    "        time.sleep(9.5)\n",
    "    mainProgram()\n",
    "mainProgram()"
   ]
  },
  {
   "cell_type": "code",
   "execution_count": null,
   "metadata": {},
   "outputs": [],
   "source": []
  }
 ],
 "metadata": {
  "interpreter": {
   "hash": "ad4e1cdc6d2df6b78adfa9d5dade8a91d4fb637b81e67ab4fabe1812f655f6f5"
  },
  "kernelspec": {
   "display_name": "Python 3.6.10 64-bit ('PyEnv': conda)",
   "name": "python3"
  },
  "language_info": {
   "codemirror_mode": {
    "name": "ipython",
    "version": 3
   },
   "file_extension": ".py",
   "mimetype": "text/x-python",
   "name": "python",
   "nbconvert_exporter": "python",
   "pygments_lexer": "ipython3",
   "version": "3.6.10"
  }
 },
 "nbformat": 4,
 "nbformat_minor": 4
}
